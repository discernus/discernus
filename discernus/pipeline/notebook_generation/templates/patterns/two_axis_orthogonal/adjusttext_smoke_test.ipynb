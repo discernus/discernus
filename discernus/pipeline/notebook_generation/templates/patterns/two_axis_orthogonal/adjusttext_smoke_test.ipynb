{
  "cells": [
    {
      "cell_type": "raw",
      "metadata": {
        "vscode": {
          "languageId": "raw"
        }
      },
      "source": [
        "# adjustText Smoke Test\n",
        "\n",
        "Testing the adjustText library for anchor label positioning in our two-axis orthogonal template.\n"
      ]
    },
    {
      "cell_type": "code",
      "execution_count": null,
      "metadata": {},
      "outputs": [],
      "source": [
        "import numpy as np\n",
        "import matplotlib.pyplot as plt\n",
        "from adjustText import adjust_text\n",
        "from discernus.visualization import setup_style\n",
        "\n",
        "# Setup our design system\n",
        "setup_style()\n"
      ]
    },
    {
      "cell_type": "code",
      "execution_count": null,
      "metadata": {},
      "outputs": [],
      "source": [
        "# Create test data similar to our template\n",
        "np.random.seed(42)\n",
        "n_points = 50\n",
        "x = np.random.normal(0, 0.3, n_points)\n",
        "y = np.random.normal(0, 0.3, n_points)\n",
        "\n",
        "# Anchor positions (4 anchors like our template)\n",
        "anchor_positions = {\n",
        "    'Anchor A': (0, 0.8),\n",
        "    'Anchor B': (0.8, 0), \n",
        "    'Anchor C': (0, -0.8),\n",
        "    'Anchor D': (-0.8, 0)\n",
        "}\n",
        "\n",
        "print(\"Test data created\")\n"
      ]
    },
    {
      "cell_type": "raw",
      "metadata": {
        "vscode": {
          "languageId": "raw"
        }
      },
      "source": [
        "## Test 1: Current Method vs adjustText\n"
      ]
    },
    {
      "cell_type": "code",
      "execution_count": null,
      "metadata": {},
      "outputs": [],
      "source": [
        "# Create side-by-side comparison\n",
        "fig, (ax1, ax2) = plt.subplots(1, 2, figsize=(16, 8))\n",
        "\n",
        "# Left plot: Current method (manual positioning)\n",
        "ax1.scatter(x, y, alpha=0.6, s=30)\n",
        "ax1.set_xlim(-1, 1)\n",
        "ax1.set_ylim(-1, 1)\n",
        "ax1.set_title('Current Method: Manual Positioning')\n",
        "\n",
        "# Add anchor circles and manual labels\n",
        "circle1 = plt.Circle((0, 0), 0.9, fill=False, color='gray', alpha=0.3, linewidth=1)\n",
        "ax1.add_patch(circle1)\n",
        "\n",
        "# Manual anchor positioning (current method)\n",
        "for anchor, pos in anchor_positions.items():\n",
        "    ax1.plot(pos[0], pos[1], 'o', color='gray', alpha=0.5, markersize=8, zorder=1)\n",
        "    # Manual offset for text\n",
        "    offset_x = 0.1 if pos[0] >= 0 else -0.1\n",
        "    offset_y = 0.1 if pos[1] >= 0 else -0.1\n",
        "    ax1.text(pos[0] + offset_x, pos[1] + offset_y, anchor, \n",
        "            ha='center', va='center', fontsize=10, \n",
        "            bbox=dict(boxstyle='round,pad=0.3', facecolor='white', alpha=0.8))\n",
        "\n",
        "# Right plot: adjustText method\n",
        "ax2.scatter(x, y, alpha=0.6, s=30)\n",
        "ax2.set_xlim(-1, 1)\n",
        "ax2.set_ylim(-1, 1)\n",
        "ax2.set_title('adjustText Method: Automatic Positioning')\n",
        "\n",
        "# Add anchor circles\n",
        "circle2 = plt.Circle((0, 0), 0.9, fill=False, color='gray', alpha=0.3, linewidth=1)\n",
        "ax2.add_patch(circle2)\n",
        "\n",
        "# adjustText method\n",
        "anchor_texts = []\n",
        "for anchor, pos in anchor_positions.items():\n",
        "    ax2.plot(pos[0], pos[1], 'o', color='gray', alpha=0.5, markersize=8, zorder=1)\n",
        "    # Place text at anchor position initially\n",
        "    text = ax2.text(pos[0], pos[1], anchor, \n",
        "                   ha='center', va='center', fontsize=10,\n",
        "                   bbox=dict(boxstyle='round,pad=0.3', facecolor='white', alpha=0.8))\n",
        "    anchor_texts.append(text)\n",
        "\n",
        "# Let adjustText do its magic\n",
        "adjust_text(anchor_texts, \n",
        "           ax=ax2,\n",
        "           force_text=(0.1, 0.2),      # Repel force between texts\n",
        "           force_static=(0.1, 0.2),    # Repel force from anchor points\n",
        "           expand=(1.1, 1.2),          # Expand bounding boxes\n",
        "           ensure_inside_axes=True,    # Keep labels inside plot\n",
        "           arrowprops=dict(arrowstyle='->', color='gray', alpha=0.7, lw=1))\n",
        "\n",
        "plt.tight_layout()\n",
        "plt.show()\n"
      ]
    },
    {
      "cell_type": "raw",
      "metadata": {
        "vscode": {
          "languageId": "raw"
        }
      },
      "source": [
        "## Test 2: Performance Timing\n"
      ]
    },
    {
      "cell_type": "code",
      "execution_count": null,
      "metadata": {},
      "outputs": [],
      "source": [
        "import time\n",
        "\n",
        "# Time the adjustText operation\n",
        "fig, ax = plt.subplots(figsize=(10, 8))\n",
        "\n",
        "ax.scatter(x, y, alpha=0.6, s=30)\n",
        "ax.set_xlim(-1, 1)\n",
        "ax.set_ylim(-1, 1)\n",
        "ax.set_title('Performance Test')\n",
        "\n",
        "circle = plt.Circle((0, 0), 0.9, fill=False, color='gray', alpha=0.3, linewidth=1)\n",
        "ax.add_patch(circle)\n",
        "\n",
        "anchor_texts = []\n",
        "for anchor, pos in anchor_positions.items():\n",
        "    ax.plot(pos[0], pos[1], 'o', color='gray', alpha=0.5, markersize=8, zorder=1)\n",
        "    text = ax.text(pos[0], pos[1], anchor, \n",
        "                  ha='center', va='center', fontsize=10,\n",
        "                  bbox=dict(boxstyle='round,pad=0.3', facecolor='white', alpha=0.8))\n",
        "    anchor_texts.append(text)\n",
        "\n",
        "# Time the adjustment\n",
        "start_time = time.time()\n",
        "adjust_text(anchor_texts, ax=ax,\n",
        "           force_text=(0.1, 0.2),\n",
        "           arrowprops=dict(arrowstyle='->', color='purple', alpha=0.7, lw=1))\n",
        "end_time = time.time()\n",
        "\n",
        "print(f\"adjustText took {end_time - start_time:.3f} seconds\")\n",
        "\n",
        "plt.show()\n"
      ]
    },
    {
      "cell_type": "raw",
      "metadata": {
        "vscode": {
          "languageId": "raw"
        }
      },
      "source": [
        "## Conclusions\n",
        "\n",
        "Based on these tests, we can evaluate:\n",
        "\n",
        "1. **Visual Quality**: How does adjustText compare to manual positioning?\n",
        "2. **Performance**: Is it fast enough for our use case?\n",
        "3. **Integration**: How well does it work with our design system?\n",
        "4. **Reliability**: Does it produce consistent, professional results?\n",
        "\n",
        "This will inform whether to integrate adjustText into our standard template.\n"
      ]
    }
  ],
  "metadata": {
    "language_info": {
      "name": "python"
    }
  },
  "nbformat": 4,
  "nbformat_minor": 2
}
