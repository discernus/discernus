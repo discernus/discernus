{
  "cells": [
    {
      "cell_type": "raw",
      "metadata": {
        "vscode": {
          "languageId": "raw"
        }
      },
      "source": [
        "# DCS Multi-Model Statistical Comparison: Jupyter-Native Workflow\n",
        "\n",
        "This notebook demonstrates the **Stage 6: Results Interpretation** workflow from the DCS Research Workflow Specification v1.0.\n",
        "\n",
        "**Jupyter Native Integration Heuristics Satisfied:**\n",
        "1. ✅ **Data Fluidity**: All results as pandas DataFrames\n",
        "2. ✅ **Standard Library Integration**: Built on plotly/pandas/numpy\n",
        "3. ✅ **Pedagogical Clarity**: Markdown explanations throughout\n",
        "4. ✅ **Self-Containment**: Run all cells without errors\n",
        "5. ✅ **Modularity**: Copy-friendly functions provided\n",
        "\n",
        "## Research Question\n",
        "Do different flagship cloud LLMs produce statistically similar results when analyzing the same corpus using identical DCS frameworks?\n"
      ]
    },
    {
      "cell_type": "code",
      "execution_count": 1,
      "metadata": {},
      "outputs": [
        {
          "name": "stdout",
          "output_type": "stream",
          "text": [
            "✅ Environment loaded successfully\n"
          ]
        }
      ],
      "source": [
        "# Standard scientific computing imports\n",
        "import pandas as pd\n",
        "import numpy as np\n",
        "import plotly.graph_objects as go\n",
        "import plotly.express as px\n",
        "from pathlib import Path\n",
        "\n",
        "# Import DCS Jupyter-native interface\n",
        "import discernus.analysis.jupyter_native_dcs as dcs\n",
        "\n",
        "print(\"✅ Environment loaded successfully\")\n"
      ]
    },
    {
      "cell_type": "raw",
      "metadata": {
        "vscode": {
          "languageId": "raw"
        }
      },
      "source": [
        "## Data Loading: Results from CLI Analysis Execution\n",
        "\n",
        "The previous workflow stages (run via `run_experiment.py`) have completed:\n",
        "- **Stage 4**: Corpus preparation \n",
        "- **Stage 5**: Analysis execution across multiple models\n",
        "\n",
        "Now we import the results for interactive exploration.\n"
      ]
    },
    {
      "cell_type": "code",
      "execution_count": 2,
      "metadata": {},
      "outputs": [
        {
          "name": "stdout",
          "output_type": "stream",
          "text": [
            "📊 Loaded data for 2 models\n",
            "📝 Total analyses: 4\n"
          ]
        }
      ],
      "source": [
        "# Mock data structure for demonstration (in practice, loaded from experiment results)\n",
        "model_groups = {\n",
        "    'gpt_4o': [\n",
        "        {'text_id': 'speech_001', 'centroid': (0.23, 0.45), 'scores': {'care': 0.8, 'fairness': 0.6, 'loyalty': 0.3}},\n",
        "        {'text_id': 'speech_002', 'centroid': (0.31, 0.38), 'scores': {'care': 0.7, 'fairness': 0.7, 'loyalty': 0.5}}\n",
        "    ],\n",
        "    'claude_sonnet': [\n",
        "        {'text_id': 'speech_001', 'centroid': (0.26, 0.42), 'scores': {'care': 0.8, 'fairness': 0.7, 'loyalty': 0.2}},\n",
        "        {'text_id': 'speech_002', 'centroid': (0.29, 0.41), 'scores': {'care': 0.6, 'fairness': 0.8, 'loyalty': 0.4}}\n",
        "    ]\n",
        "}\n",
        "\n",
        "# Framework anchor definitions\n",
        "framework_anchors = {\n",
        "    'care': {'angle': 0, 'type': 'integrative', 'weight': 1.0},\n",
        "    'fairness': {'angle': 72, 'type': 'integrative', 'weight': 1.0}, \n",
        "    'loyalty': {'angle': 144, 'type': 'binding', 'weight': 1.0}\n",
        "}\n",
        "\n",
        "print(f\"📊 Loaded data for {len(model_groups)} models\")\n",
        "print(f\"📝 Total analyses: {sum(len(results) for results in model_groups.values())}\")\n"
      ]
    },
    {
      "cell_type": "code",
      "execution_count": 8,
      "metadata": {},
      "outputs": [
        {
          "name": "stdout",
          "output_type": "stream",
          "text": [
            "🔍 Model Similarity Analysis:\n"
          ]
        },
        {
          "data": {
            "text/html": [
              "<div>\n",
              "<style scoped>\n",
              "    .dataframe tbody tr th:only-of-type {\n",
              "        vertical-align: middle;\n",
              "    }\n",
              "\n",
              "    .dataframe tbody tr th {\n",
              "        vertical-align: top;\n",
              "    }\n",
              "\n",
              "    .dataframe thead th {\n",
              "        text-align: right;\n",
              "    }\n",
              "</style>\n",
              "<table border=\"1\" class=\"dataframe\">\n",
              "  <thead>\n",
              "    <tr style=\"text-align: right;\">\n",
              "      <th></th>\n",
              "      <th>method</th>\n",
              "      <th>mean_distance</th>\n",
              "      <th>max_distance</th>\n",
              "      <th>variance</th>\n",
              "      <th>average_correlation</th>\n",
              "      <th>model_count</th>\n",
              "    </tr>\n",
              "  </thead>\n",
              "  <tbody>\n",
              "    <tr>\n",
              "      <th>0</th>\n",
              "      <td>geometric_similarity</td>\n",
              "      <td>0.005</td>\n",
              "      <td>0.005</td>\n",
              "      <td>0.0</td>\n",
              "      <td>NaN</td>\n",
              "      <td>NaN</td>\n",
              "    </tr>\n",
              "    <tr>\n",
              "      <th>1</th>\n",
              "      <td>dimensional_correlation</td>\n",
              "      <td>NaN</td>\n",
              "      <td>NaN</td>\n",
              "      <td>NaN</td>\n",
              "      <td>0.968301</td>\n",
              "      <td>2.0</td>\n",
              "    </tr>\n",
              "  </tbody>\n",
              "</table>\n",
              "</div>"
            ],
            "text/plain": [
              "                    method  mean_distance  max_distance  variance  \\\n",
              "0     geometric_similarity          0.005         0.005       0.0   \n",
              "1  dimensional_correlation            NaN           NaN       NaN   \n",
              "\n",
              "   average_correlation  model_count  \n",
              "0                  NaN          NaN  \n",
              "1             0.968301          2.0  "
            ]
          },
          "metadata": {},
          "output_type": "display_data"
        },
        {
          "name": "stdout",
          "output_type": "stream",
          "text": [
            "\n",
            "📈 Cross-Model Score Correlations:\n"
          ]
        },
        {
          "data": {
            "text/html": [
              "<div>\n",
              "<style scoped>\n",
              "    .dataframe tbody tr th:only-of-type {\n",
              "        vertical-align: middle;\n",
              "    }\n",
              "\n",
              "    .dataframe tbody tr th {\n",
              "        vertical-align: top;\n",
              "    }\n",
              "\n",
              "    .dataframe thead th {\n",
              "        text-align: right;\n",
              "    }\n",
              "</style>\n",
              "<table border=\"1\" class=\"dataframe\">\n",
              "  <thead>\n",
              "    <tr style=\"text-align: right;\">\n",
              "      <th></th>\n",
              "      <th>model_1</th>\n",
              "      <th>model_2</th>\n",
              "      <th>correlation</th>\n",
              "      <th>common_texts</th>\n",
              "    </tr>\n",
              "  </thead>\n",
              "  <tbody>\n",
              "    <tr>\n",
              "      <th>0</th>\n",
              "      <td>gpt_4o</td>\n",
              "      <td>gpt_4o</td>\n",
              "      <td>1.000000</td>\n",
              "      <td>2</td>\n",
              "    </tr>\n",
              "    <tr>\n",
              "      <th>1</th>\n",
              "      <td>gpt_4o</td>\n",
              "      <td>claude_sonnet</td>\n",
              "      <td>0.931156</td>\n",
              "      <td>2</td>\n",
              "    </tr>\n",
              "    <tr>\n",
              "      <th>2</th>\n",
              "      <td>claude_sonnet</td>\n",
              "      <td>claude_sonnet</td>\n",
              "      <td>1.000000</td>\n",
              "      <td>2</td>\n",
              "    </tr>\n",
              "  </tbody>\n",
              "</table>\n",
              "</div>"
            ],
            "text/plain": [
              "         model_1        model_2  correlation  common_texts\n",
              "0         gpt_4o         gpt_4o     1.000000             2\n",
              "1         gpt_4o  claude_sonnet     0.931156             2\n",
              "2  claude_sonnet  claude_sonnet     1.000000             2"
            ]
          },
          "metadata": {},
          "output_type": "display_data"
        },
        {
          "ename": "ValueError",
          "evalue": "Mime type rendering requires nbformat>=4.2.0 but it is not installed",
          "output_type": "error",
          "traceback": [
            "\u001b[31m---------------------------------------------------------------------------\u001b[39m",
            "\u001b[31mValueError\u001b[39m                                Traceback (most recent call last)",
            "\u001b[36mCell\u001b[39m\u001b[36m \u001b[39m\u001b[32mIn[8]\u001b[39m\u001b[32m, line 16\u001b[39m\n\u001b[32m     14\u001b[39m \u001b[38;5;66;03m# Show interactive visualization (Heuristic 2: Standard Library Integration)\u001b[39;00m\n\u001b[32m     15\u001b[39m overview_fig = analysis_results[\u001b[33m'\u001b[39m\u001b[33moverview_fig\u001b[39m\u001b[33m'\u001b[39m]\n\u001b[32m---> \u001b[39m\u001b[32m16\u001b[39m \u001b[43moverview_fig\u001b[49m\u001b[43m.\u001b[49m\u001b[43mshow\u001b[49m\u001b[43m(\u001b[49m\u001b[43m)\u001b[49m\n\u001b[32m     18\u001b[39m \u001b[38;5;28mprint\u001b[39m(\u001b[33m\"\u001b[39m\u001b[33m✅ Complete analysis pipeline executed successfully!\u001b[39m\u001b[33m\"\u001b[39m)\n\u001b[32m     19\u001b[39m \u001b[38;5;28mprint\u001b[39m(\u001b[33m\"\u001b[39m\u001b[33m💡 All results available as standard pandas DataFrames for further analysis\u001b[39m\u001b[33m\"\u001b[39m)\n",
            "\u001b[36mFile \u001b[39m\u001b[32m/Volumes/dev/discernus/venv/lib/python3.13/site-packages/plotly/basedatatypes.py:3436\u001b[39m, in \u001b[36mBaseFigure.show\u001b[39m\u001b[34m(self, *args, **kwargs)\u001b[39m\n\u001b[32m   3403\u001b[39m \u001b[38;5;250m\u001b[39m\u001b[33;03m\"\"\"\u001b[39;00m\n\u001b[32m   3404\u001b[39m \u001b[33;03mShow a figure using either the default renderer(s) or the renderer(s)\u001b[39;00m\n\u001b[32m   3405\u001b[39m \u001b[33;03mspecified by the renderer argument\u001b[39;00m\n\u001b[32m   (...)\u001b[39m\u001b[32m   3432\u001b[39m \u001b[33;03mNone\u001b[39;00m\n\u001b[32m   3433\u001b[39m \u001b[33;03m\"\"\"\u001b[39;00m\n\u001b[32m   3434\u001b[39m \u001b[38;5;28;01mimport\u001b[39;00m\u001b[38;5;250m \u001b[39m\u001b[34;01mplotly\u001b[39;00m\u001b[34;01m.\u001b[39;00m\u001b[34;01mio\u001b[39;00m\u001b[38;5;250m \u001b[39m\u001b[38;5;28;01mas\u001b[39;00m\u001b[38;5;250m \u001b[39m\u001b[34;01mpio\u001b[39;00m\n\u001b[32m-> \u001b[39m\u001b[32m3436\u001b[39m \u001b[38;5;28;01mreturn\u001b[39;00m \u001b[43mpio\u001b[49m\u001b[43m.\u001b[49m\u001b[43mshow\u001b[49m\u001b[43m(\u001b[49m\u001b[38;5;28;43mself\u001b[39;49m\u001b[43m,\u001b[49m\u001b[43m \u001b[49m\u001b[43m*\u001b[49m\u001b[43margs\u001b[49m\u001b[43m,\u001b[49m\u001b[43m \u001b[49m\u001b[43m*\u001b[49m\u001b[43m*\u001b[49m\u001b[43mkwargs\u001b[49m\u001b[43m)\u001b[49m\n",
            "\u001b[36mFile \u001b[39m\u001b[32m/Volumes/dev/discernus/venv/lib/python3.13/site-packages/plotly/io/_renderers.py:425\u001b[39m, in \u001b[36mshow\u001b[39m\u001b[34m(fig, renderer, validate, **kwargs)\u001b[39m\n\u001b[32m    420\u001b[39m     \u001b[38;5;28;01mraise\u001b[39;00m \u001b[38;5;167;01mValueError\u001b[39;00m(\n\u001b[32m    421\u001b[39m         \u001b[33m\"\u001b[39m\u001b[33mMime type rendering requires ipython but it is not installed\u001b[39m\u001b[33m\"\u001b[39m\n\u001b[32m    422\u001b[39m     )\n\u001b[32m    424\u001b[39m \u001b[38;5;28;01mif\u001b[39;00m \u001b[38;5;129;01mnot\u001b[39;00m nbformat \u001b[38;5;129;01mor\u001b[39;00m Version(nbformat.__version__) < Version(\u001b[33m\"\u001b[39m\u001b[33m4.2.0\u001b[39m\u001b[33m\"\u001b[39m):\n\u001b[32m--> \u001b[39m\u001b[32m425\u001b[39m     \u001b[38;5;28;01mraise\u001b[39;00m \u001b[38;5;167;01mValueError\u001b[39;00m(\n\u001b[32m    426\u001b[39m         \u001b[33m\"\u001b[39m\u001b[33mMime type rendering requires nbformat>=4.2.0 but it is not installed\u001b[39m\u001b[33m\"\u001b[39m\n\u001b[32m    427\u001b[39m     )\n\u001b[32m    429\u001b[39m display_jupyter_version_warnings()\n\u001b[32m    431\u001b[39m ipython_display.display(bundle, raw=\u001b[38;5;28;01mTrue\u001b[39;00m)\n",
            "\u001b[31mValueError\u001b[39m: Mime type rendering requires nbformat>=4.2.0 but it is not installed"
          ]
        }
      ],
      "source": [
        "# Perform comprehensive model comparison (demonstrates Jupyter-native interface)\n",
        "analysis_results = dcs.quick_model_comparison(model_groups, framework_anchors)\n",
        "\n",
        "# Extract DataFrames for analysis (Heuristic 1: Data Fluidity)\n",
        "similarity_df = analysis_results['similarity_df']\n",
        "correlation_df = analysis_results['correlation_df']\n",
        "\n",
        "print(\"🔍 Model Similarity Analysis:\")\n",
        "display(similarity_df)\n",
        "\n",
        "print(\"\\n📈 Cross-Model Score Correlations:\")\n",
        "display(correlation_df)\n",
        "\n",
        "# Show interactive visualization (Heuristic 2: Standard Library Integration)\n",
        "overview_fig = analysis_results['overview_fig']\n",
        "overview_fig.show()\n",
        "\n",
        "print(\"✅ Complete analysis pipeline executed successfully!\")\n",
        "print(\"💡 All results available as standard pandas DataFrames for further analysis\")\n"
      ]
    },
    {
      "cell_type": "markdown",
      "metadata": {
        "vscode": {
          "languageId": "raw"
        }
      },
      "source": [
        "## Summary: Jupyter-Native DCS Workflow\n",
        "\n",
        "This notebook demonstrates the **optimal architecture** for DCS research:\n",
        "\n",
        "### ✅ Keep Core Modules (Refactored for Jupyter)\n",
        "- **`statistical_methods.py`**: Robust statistical analysis with DataFrame interfaces\n",
        "- **`reboot_plotly_circular.py`**: DCS-specific visualizations using standard Plotly\n",
        "- **`jupyter_native_dcs.py`**: Simple function interfaces satisfying all 5 heuristics\n",
        "\n",
        "### ❌ Minimize `report_builder.py`\n",
        "- HTML reports are not Jupyter-native\n",
        "- Researchers want interactive analysis, not static reports\n",
        "- Replace with notebook-ready component functions\n",
        "\n",
        "### 🎯 Result: Perfect Stage 6 Implementation\n",
        "Researchers get:\n",
        "1. **Data Fluidity**: `results_df = dcs.analyze_model_similarity(data)`\n",
        "2. **Standard Libraries**: Pure plotly/pandas - no proprietary APIs  \n",
        "3. **Pedagogical Clarity**: Complete narrative with explanations\n",
        "4. **Self-Containment**: \"Run All Cells\" works perfectly\n",
        "5. **Modularity**: Copy-friendly functions for customization\n",
        "\n",
        "This architecture supports the complete DCS Research Workflow while maintaining academic rigor and researcher autonomy.\n"
      ]
    }
  ],
  "metadata": {
    "kernelspec": {
      "display_name": "venv",
      "language": "python",
      "name": "python3"
    },
    "language_info": {
      "codemirror_mode": {
        "name": "ipython",
        "version": 3
      },
      "file_extension": ".py",
      "mimetype": "text/x-python",
      "name": "python",
      "nbconvert_exporter": "python",
      "pygments_lexer": "ipython3",
      "version": "3.13.5"
    }
  },
  "nbformat": 4,
  "nbformat_minor": 2
}
