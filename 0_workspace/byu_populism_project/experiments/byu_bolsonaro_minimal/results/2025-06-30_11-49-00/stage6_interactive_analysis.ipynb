{
  "cells": [
    {
      "cell_type": "markdown",
      "metadata": {},
      "source": [
        "# Minimal Debug - 1 Speech, 2 Models - Interactive Analysis\n",
        "**Framework:** minimal_test  \n",
        "**Generated:** 2025-06-30T11:49:00.205079  \n",
        "**Job ID:** 0554920c-6f8b-4567-9bd4-be4deb746e36  \n",
        "\n",
        "## Overview\n",
        "This notebook provides interactive analysis of your experiment results with embedded statistical methods, \n",
        "visualization tools, and academic export capabilities.\n"
      ]
    },
    {
      "cell_type": "code",
      "execution_count": null,
      "metadata": {},
      "outputs": [],
      "source": [
        "# Setup and imports\n",
        "import pandas as pd\n",
        "import numpy as np\n",
        "import matplotlib.pyplot as plt\n",
        "import seaborn as sns\n",
        "import json\n",
        "\n",
        "# Experiment metadata\n",
        "JOB_ID = '0554920c-6f8b-4567-9bd4-be4deb746e36'\n",
        "FRAMEWORK_NAME = 'minimal_test'\n",
        "EXPERIMENT_NAME = 'Minimal Debug - 1 Speech, 2 Models'\n",
        "\n",
        "print(f'📊 Loaded experiment: {EXPERIMENT_NAME}')"
      ]
    },
    {
      "cell_type": "code",
      "execution_count": null,
      "metadata": {},
      "outputs": [],
      "source": [
        "# Load experiment results\n",
        "EXPERIMENT_RESULTS = {\n",
        "  \"job_id\": \"0554920c-6f8b-4567-9bd4-be4deb746e36\",\n",
        "  \"comparison_type\": \"multi_model\",\n",
        "  \"similarity_classification\": \"STATISTICALLY_DIFFERENT\",\n",
        "  \"confidence_level\": 0.0,\n",
        "  \"condition_results\": [\n",
        "    {\n",
        "      \"condition_identifier\": \"ollama/llama3.2:latest\",\n",
        "      \"centroid\": [\n",
        "        -6.123233995736765e-17,\n",
        "        0.0\n",
        "      ],\n",
        "      \"raw_scores\": {\n",
        "        \"pluralism\": 1.0,\n",
        "        \"populism\": 1.0\n",
        "      }\n",
        "    },\n",
        "    {\n",
        "      \"condition_identifier\": \"ollama/mistral:latest\",\n",
        "      \"centroid\": [\n",
        "        6.123233995736766e-17,\n",
        "        1.0\n",
        "      ],\n",
        "      \"raw_scores\": {\n",
        "        \"pluralism\": 0.0,\n",
        "        \"populism\": 1.0\n",
        "      }\n",
        "    }\n",
        "  ],\n",
        "  \"statistical_metrics\": {},\n",
        "  \"significance_tests\": {},\n",
        "  \"report_url\": null\n",
        "}\n",
        "\n",
        "print('✅ Experiment results loaded')\n",
        "print(f'📊 Available data: {list(EXPERIMENT_RESULTS.keys())}')"
      ]
    }
  ],
  "metadata": {
    "discernus_metadata": {
      "framework_name": "minimal_test",
      "generation_timestamp": "2025-06-30T11:49:00.205079",
      "job_id": "0554920c-6f8b-4567-9bd4-be4deb746e36",
      "stage6_generated": true,
      "template_type": "universal_analysis"
    },
    "kernelspec": {
      "display_name": "Python 3",
      "language": "python",
      "name": "python3"
    },
    "language_info": {
      "codemirror_mode": {
        "name": "ipython",
        "version": 3
      },
      "file_extension": ".py",
      "mimetype": "text/x-python",
      "name": "python",
      "nbconvert_exporter": "python",
      "pygments_lexer": "ipython3",
      "version": "3.8.0"
    }
  },
  "nbformat": 4,
  "nbformat_minor": 4
}
