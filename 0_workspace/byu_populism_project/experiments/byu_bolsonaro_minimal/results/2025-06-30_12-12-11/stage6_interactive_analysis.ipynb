{
  "cells": [
    {
      "cell_type": "markdown",
      "metadata": {},
      "source": [
        "# Minimal Debug - 1 Speech, 2 Models - Interactive Analysis\n",
        "**Framework:** minimal_test  \n",
        "**Generated:** 2025-06-30T12:12:11.274745  \n",
        "**Job ID:** cd36b892-2a58-45ec-b833-e9e83cece4e9  \n",
        "\n",
        "## Overview\n",
        "This notebook provides interactive analysis of your experiment results with embedded statistical methods, ",
        "visualization tools, and academic export capabilities.\n"
      ]
    },
    {
      "cell_type": "code",
      "execution_count": null,
      "metadata": {},
      "outputs": [],
      "source": [
        "# Setup and imports\n",
        "import pandas as pd\n",
        "import numpy as np\n",
        "import matplotlib.pyplot as plt\n",
        "import seaborn as sns\n",
        "import json\n",
        "\n",
        "# Experiment metadata\n",
        "JOB_ID = 'cd36b892-2a58-45ec-b833-e9e83cece4e9'\n",
        "FRAMEWORK_NAME = 'minimal_test'\n",
        "EXPERIMENT_NAME = 'Minimal Debug - 1 Speech, 2 Models'\n",
        "\n",
        "print(f'📊 Loaded experiment: {EXPERIMENT_NAME}')"
      ]
    },
    {
      "cell_type": "code",
      "execution_count": null,
      "metadata": {},
      "outputs": [],
      "source": [
        "# Load experiment results\n",
        "EXPERIMENT_RESULTS = {\n  \"job_id\": \"cd36b892-2a58-45ec-b833-e9e83cece4e9\",\n  \"comparison_type\": \"multi_model\",\n  \"similarity_classification\": \"STATISTICALLY_DIFFERENT\",\n  \"confidence_level\": 0.0,\n  \"condition_results\": [\n    {\n      \"condition_identifier\": \"claude-3-5-haiku-20241022\",\n      \"centroid\": [\n        1.669972907928209e-17,\n        0.6363636363636362\n      ],\n      \"raw_scores\": {\n        \"populism\": 0.9,\n        \"pluralism\": 0.2\n      }\n    }\n  ],\n  \"statistical_metrics\": {\n    \"geometric_similarity\": {\n      \"model_average_centroids\": {\n        \"claude-3-5-haiku-20241022\": [\n          1.669972907928209e-17,\n          0.6363636363636362\n        ]\n      },\n      \"pairwise_distances\": {},\n      \"mean_distance\": 0.0,\n      \"max_distance\": 0.0,\n      \"min_distance\": 0.0,\n      \"std_distance\": 0.0\n    }\n  },\n  \"significance_tests\": {},\n  \"report_url\": null\n}\n",
        "\n",
        "print('✅ Experiment results loaded')\n",
        "print(f'📊 Available data: {list(EXPERIMENT_RESULTS.keys())}')"
      ]
    }
  ],
  "metadata": {
    "kernelspec": {
      "display_name": "Python 3",
      "language": "python",
      "name": "python3"
    },
    "language_info": {
      "codemirror_mode": {
        "name": "ipython",
        "version": 3
      },
      "file_extension": ".py",
      "mimetype": "text/x-python",
      "name": "python",
      "nbconvert_exporter": "python",
      "pygments_lexer": "ipython3",
      "version": "3.8.0"
    },
    "discernus_metadata": {
      "stage6_generated": true,
      "job_id": "cd36b892-2a58-45ec-b833-e9e83cece4e9",
      "framework_name": "minimal_test",
      "template_type": "universal_analysis",
      "generation_timestamp": "2025-06-30T12:12:11.274745"
    }
  },
  "nbformat": 4,
  "nbformat_minor": 4
}