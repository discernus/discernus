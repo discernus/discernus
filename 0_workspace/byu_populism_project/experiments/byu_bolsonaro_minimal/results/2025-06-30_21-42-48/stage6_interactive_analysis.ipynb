{
  "cells": [
    {
      "cell_type": "markdown",
      "metadata": {},
      "source": [
        "# Stage 6: Analysis Template (Fallback)\n",
        "\n",
        "**Note:** Universal template not found, using fallback.\n",
        "\n",
        "## Quick Start\n",
        "```python\n",
        "import json\n",
        "with open('run_metadata.json', 'r') as f:\n",
        "    data = json.load(f)\n",
        "print(data.keys())\n",
        "```"
      ]
    },
    {
      "cell_type": "code",
      "execution_count": null,
      "metadata": {},
      "outputs": [],
      "source": [
        "# Load experiment data\n",
        "import json\n",
        "import pandas as pd\n",
        "import matplotlib.pyplot as plt\n",
        "\n",
        "# Load run metadata\n",
        "with open('run_metadata.json', 'r') as f:\n",
        "    run_data = json.load(f)\n",
        "\n",
        "print('Experiment data loaded!')\n",
        "print(f\"Job ID: {run_data.get('job_id')}\")\n",
        "print(f\"Models: {run_data.get('models_used')}\")"
      ]
    }
  ],
  "metadata": {
    "kernelspec": {
      "display_name": "Python 3",
      "language": "python",
      "name": "python3"
    },
    "language_info": {
      "name": "python",
      "version": "3.8.5"
    }
  },
  "nbformat": 4,
  "nbformat_minor": 4
}