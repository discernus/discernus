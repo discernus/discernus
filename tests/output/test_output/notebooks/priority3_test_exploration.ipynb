{
  "cells": [
    {
      "cell_type": "markdown",
      "metadata": {},
      "source": [
        "# Narrative Gravity Wells - Exploratory Data Analysis",
        "Study: priority3_test"
      ]
    },
    {
      "cell_type": "code",
      "execution_count": null,
      "metadata": {},
      "outputs": [],
      "source": [
        "import pandas as pd",
        "import numpy as np",
        "import matplotlib.pyplot as plt",
        "import seaborn as sns",
        "from scipy import stats",
        "import plotly.express as px",
        "import plotly.graph_objects as go",
        "from plotly.subplots import make_subplots",
        "import warnings",
        "warnings.filterwarnings('ignore')",
        "",
        "# Set style",
        "plt.style.use('seaborn-v0_8')",
        "sns.set_palette(\"husl\")",
        "",
        "print(\"\ud83d\udcca Narrative Gravity Wells Analysis\")",
        "print(\"=\" * 50)"
      ]
    },
    {
      "cell_type": "code",
      "execution_count": null,
      "metadata": {},
      "outputs": [],
      "source": [
        "# Load dataset",
        "print(\"Loading dataset...\")",
        "data = pd.read_feather('../data/priority3_test.feather')",
        "",
        "print(f\"\u2705 Loaded {len(data)} observations with {len(data.columns)} variables\")",
        "print(f\"Date range: {data['exp_date'].min()} to {data['exp_date'].max()}\")",
        "print(f\"Frameworks: {data['framework'].unique()}\")",
        "print(f\"LLM Models: {data['llm_model'].unique()}\")"
      ]
    },
    {
      "cell_type": "markdown",
      "metadata": {},
      "source": [
        "## Dataset Overview"
      ]
    },
    {
      "cell_type": "code",
      "execution_count": null,
      "metadata": {},
      "outputs": [],
      "source": [
        "# Dataset structure",
        "print(\"\\nDataset Info:\")",
        "print(data.info())",
        "",
        "# Basic statistics",
        "print(\"\\nDescriptive Statistics:\")",
        "print(data.describe())",
        "",
        "# Missing data analysis",
        "print(\"\\nMissing Data Analysis:\")",
        "missing = data.isnull().sum()",
        "missing_pct = (missing / len(data)) * 100",
        "missing_df = pd.DataFrame({",
        "    'Missing Count': missing,",
        "    'Missing %': missing_pct",
        "}).sort_values('Missing %', ascending=False)",
        "print(missing_df[missing_df['Missing Count'] > 0])"
      ]
    },
    {
      "cell_type": "markdown",
      "metadata": {},
      "source": [
        "## Reliability Analysis"
      ]
    },
    {
      "cell_type": "code",
      "execution_count": null,
      "metadata": {},
      "outputs": [],
      "source": [
        "# Reliability by framework",
        "print(\"\\nReliability Analysis by Framework:\")",
        "reliability_stats = data.groupby('framework')['cv'].agg([",
        "    'count', 'mean', 'std', 'min', 'max'",
        "]).round(4)",
        "print(reliability_stats)",
        "",
        "# Reliability target analysis",
        "target_cv = 0.20",
        "reliable_analyses = data[data['cv'] <= target_cv]",
        "reliability_rate = len(reliable_analyses) / len(data.dropna(subset=['cv'])) * 100",
        "",
        "print(f\"\\nReliability Rate (CV \u2264 {target_cv}): {reliability_rate:.1f}%\")",
        "",
        "# Framework reliability comparison",
        "framework_reliability = data.groupby('framework').apply(",
        "    lambda x: (x['cv'] <= target_cv).mean() * 100",
        ").round(1)",
        "print(\"\\nReliability Rate by Framework:\")",
        "print(framework_reliability.sort_values(ascending=False))"
      ]
    },
    {
      "cell_type": "markdown",
      "metadata": {},
      "source": [
        "## Framework Performance"
      ]
    },
    {
      "cell_type": "code",
      "execution_count": null,
      "metadata": {},
      "outputs": [],
      "source": [
        "# Framework performance comparison",
        "print(\"\\nFramework Performance Analysis:\")",
        "framework_stats = data.groupby('framework').agg({",
        "    'cv': ['mean', 'std', 'count'],",
        "    'icc': ['mean', 'std'],",
        "    'cost': ['mean', 'sum'],",
        "    'process_time_sec': ['mean', 'sum']",
        "}).round(4)",
        "",
        "# Flatten column names",
        "framework_stats.columns = ['_'.join(col).strip() for col in framework_stats.columns]",
        "print(framework_stats)",
        "",
        "# Statistical significance testing",
        "from scipy import stats",
        "frameworks = data['framework'].unique()",
        "cv_by_framework = [data[data['framework'] == f]['cv'].dropna() for f in frameworks]",
        "",
        "if len(cv_by_framework) > 1 and all(len(group) > 1 for group in cv_by_framework):",
        "    f_stat, p_value = stats.f_oneway(*cv_by_framework)",
        "    print(f\"\\nFramework Effect on Reliability:\")",
        "    print(f\"F-statistic: {f_stat:.4f}, p-value: {p_value:.4f}\")",
        "    ",
        "    if p_value < 0.05:",
        "        print(\"\u2705 Significant framework effect detected\")",
        "    else:",
        "        print(\"\u274c No significant framework effect\")"
      ]
    },
    {
      "cell_type": "markdown",
      "metadata": {},
      "source": [
        "## Visualization"
      ]
    },
    {
      "cell_type": "code",
      "execution_count": null,
      "metadata": {},
      "outputs": [],
      "source": [
        "# Comprehensive visualization suite",
        "import matplotlib.pyplot as plt",
        "import seaborn as sns",
        "",
        "# Set up the plotting environment",
        "plt.figure(figsize=(15, 12))",
        "",
        "# 1. Reliability by Framework",
        "plt.subplot(2, 3, 1)",
        "if 'cv' in data.columns and data['cv'].notna().any():",
        "    sns.boxplot(data=data, x='framework', y='cv')",
        "    plt.axhline(y=0.20, color='red', linestyle='--', alpha=0.7, label='Target Threshold')",
        "    plt.title('Reliability by Framework\\n(Lower CV = Better)')",
        "    plt.xticks(rotation=45)",
        "    plt.legend()",
        "",
        "# 2. Model Performance",
        "plt.subplot(2, 3, 2)",
        "if 'llm_model' in data.columns and 'cv' in data.columns:",
        "    sns.violinplot(data=data, x='llm_model', y='cv')",
        "    plt.title('Model Performance Comparison')",
        "    plt.xticks(rotation=45)",
        "",
        "# 3. Cost vs Processing Time",
        "plt.subplot(2, 3, 3)",
        "if 'cost' in data.columns and 'process_time_sec' in data.columns:",
        "    sns.scatterplot(data=data, x='process_time_sec', y='cost', hue='llm_model', alpha=0.7)",
        "    plt.title('Cost vs Processing Time')",
        "    plt.xlabel('Processing Time (seconds)')",
        "    plt.ylabel('Cost (USD)')",
        "",
        "# 4. Framework Usage Over Time",
        "plt.subplot(2, 3, 4)",
        "if 'exp_date' in data.columns:",
        "    data_time = data.copy()",
        "    data_time['month'] = pd.to_datetime(data_time['exp_date']).dt.to_period('M')",
        "    framework_timeline = data_time.groupby(['month', 'framework']).size().reset_index(name='count')",
        "    ",
        "    for framework in framework_timeline['framework'].unique():",
        "        fdata = framework_timeline[framework_timeline['framework'] == framework]",
        "        plt.plot(fdata['month'].astype(str), fdata['count'], marker='o', label=framework)",
        "    ",
        "    plt.title('Framework Usage Timeline')",
        "    plt.xticks(rotation=45)",
        "    plt.legend()",
        "",
        "# 5. Well Scores Distribution (if available)",
        "well_columns = [col for col in data.columns if col.startswith('well_')]",
        "if well_columns:",
        "    plt.subplot(2, 3, 5)",
        "    well_data = data[well_columns].melt()",
        "    sns.boxplot(data=well_data, x='variable', y='value')",
        "    plt.title('Well Scores Distribution')",
        "    plt.xticks(rotation=45)",
        "    plt.ylabel('Score')",
        "",
        "# 6. Reliability Improvement Over Time",
        "plt.subplot(2, 3, 6)",
        "if 'exp_date' in data.columns and 'cv' in data.columns:",
        "    data_time = data.copy()",
        "    data_time['week'] = pd.to_datetime(data_time['exp_date']).dt.to_period('W')",
        "    weekly_cv = data_time.groupby('week')['cv'].mean()",
        "    ",
        "    plt.plot(weekly_cv.index.astype(str), weekly_cv.values, marker='o', linewidth=2)",
        "    plt.axhline(y=0.20, color='red', linestyle='--', alpha=0.7, label='Target Threshold')",
        "    plt.title('Reliability Improvement Over Time')",
        "    plt.xticks(rotation=45)",
        "    plt.ylabel('Mean CV')",
        "    plt.legend()",
        "",
        "plt.tight_layout()",
        "plt.savefig('comprehensive_analysis.png', dpi=300, bbox_inches='tight')",
        "plt.show()",
        "",
        "print(\"\\n\u2705 Visualization suite completed!\")",
        "print(\"\ud83d\udcca Saved: comprehensive_analysis.png\")"
      ]
    }
  ],
  "metadata": {
    "kernelspec": {
      "display_name": "Python 3",
      "language": "python",
      "name": "python3"
    }
  },
  "nbformat": 4,
  "nbformat_minor": 4
}